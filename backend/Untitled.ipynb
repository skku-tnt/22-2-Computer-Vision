{
 "cells": [
  {
   "cell_type": "code",
   "execution_count": 1,
   "id": "dd70c32f",
   "metadata": {},
   "outputs": [],
   "source": [
    "import onnx\n",
    "import PIL\n",
    "from PIL import Image\n",
    "import numpy as np\n",
    "import cv2"
   ]
  },
  {
   "cell_type": "code",
   "execution_count": 2,
   "id": "1f99aab9",
   "metadata": {},
   "outputs": [],
   "source": [
    "onnx_model = onnx.load('yolox_s.onnx')"
   ]
  },
  {
   "cell_type": "code",
   "execution_count": 3,
   "id": "d0624340",
   "metadata": {},
   "outputs": [],
   "source": [
    "net = cv2.dnn.readNet('yolox_s.onnx')"
   ]
  },
  {
   "cell_type": "code",
   "execution_count": 4,
   "id": "f46322ea",
   "metadata": {},
   "outputs": [],
   "source": [
    "image_name = \"test.jpg\""
   ]
  },
  {
   "cell_type": "code",
   "execution_count": 5,
   "id": "00d0cbfb",
   "metadata": {},
   "outputs": [],
   "source": [
    "img = cv2.imread(image_name)"
   ]
  },
  {
   "cell_type": "code",
   "execution_count": null,
   "id": "bf1bcf0b",
   "metadata": {},
   "outputs": [],
   "source": [
    "ort_sess = ort.InferenceSession(onnx_path, providers=providers)"
   ]
  },
  {
   "cell_type": "code",
   "execution_count": 7,
   "id": "97e01343",
   "metadata": {},
   "outputs": [
    {
     "ename": "error",
     "evalue": "OpenCV(4.6.0) D:\\a\\opencv-python\\opencv-python\\opencv\\modules\\dnn\\src\\net_impl.cpp:566: error: (-215:Assertion failed) !layers[0].outputBlobs.empty() in function 'cv::dnn::dnn4_v20220524::Net::Impl::allocateLayers'\n",
     "output_type": "error",
     "traceback": [
      "\u001b[1;31m---------------------------------------------------------------------------\u001b[0m",
      "\u001b[1;31merror\u001b[0m                                     Traceback (most recent call last)",
      "\u001b[1;32m~\\AppData\\Local\\Temp\\ipykernel_1544\\741507496.py\u001b[0m in \u001b[0;36m<module>\u001b[1;34m\u001b[0m\n\u001b[1;32m----> 1\u001b[1;33m \u001b[0mresults\u001b[0m \u001b[1;33m=\u001b[0m \u001b[0mnet\u001b[0m\u001b[1;33m.\u001b[0m\u001b[0mforward\u001b[0m\u001b[1;33m(\u001b[0m\u001b[0mimg\u001b[0m\u001b[1;33m)\u001b[0m\u001b[1;33m\u001b[0m\u001b[1;33m\u001b[0m\u001b[0m\n\u001b[0m",
      "\u001b[1;31merror\u001b[0m: OpenCV(4.6.0) D:\\a\\opencv-python\\opencv-python\\opencv\\modules\\dnn\\src\\net_impl.cpp:566: error: (-215:Assertion failed) !layers[0].outputBlobs.empty() in function 'cv::dnn::dnn4_v20220524::Net::Impl::allocateLayers'\n"
     ]
    }
   ],
   "source": [
    "results = net.forward(img)"
   ]
  },
  {
   "cell_type": "code",
   "execution_count": null,
   "id": "7f4ba498",
   "metadata": {},
   "outputs": [],
   "source": []
  }
 ],
 "metadata": {
  "kernelspec": {
   "display_name": "Python 3 (ipykernel)",
   "language": "python",
   "name": "python3"
  },
  "language_info": {
   "codemirror_mode": {
    "name": "ipython",
    "version": 3
   },
   "file_extension": ".py",
   "mimetype": "text/x-python",
   "name": "python",
   "nbconvert_exporter": "python",
   "pygments_lexer": "ipython3",
   "version": "3.7.13"
  }
 },
 "nbformat": 4,
 "nbformat_minor": 5
}
