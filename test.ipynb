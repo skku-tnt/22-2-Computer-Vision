{
 "cells": [
  {
   "cell_type": "code",
   "execution_count": 14,
   "metadata": {},
   "outputs": [],
   "source": [
    "import cv2\n",
    "img = cv2.imread('./backend/YOLOX/assets/dog.jpg')"
   ]
  },
  {
   "cell_type": "code",
   "execution_count": 15,
   "metadata": {},
   "outputs": [],
   "source": [
    "from backend.YOLOX.tools.demo import main\n",
    "from yolox.exp import get_exp"
   ]
  },
  {
   "cell_type": "code",
   "execution_count": 16,
   "metadata": {},
   "outputs": [],
   "source": [
    "exp = get_exp(None,'yolox_nano')\n",
    "args= None"
   ]
  },
  {
   "cell_type": "code",
   "execution_count": 17,
   "metadata": {},
   "outputs": [],
   "source": [
    "\n",
    "import argparse\n",
    "def make_parser():\n",
    "    parser = argparse.ArgumentParser(\"YOLOX Demo!\")\n",
    "    parser.add_argument(\n",
    "        \"demo\", default=\"image\", help=\"demo type, eg. image, video and webcam\"\n",
    "    )\n",
    "    parser.add_argument(\"-expn\", \"--experiment-name\", type=str, default=None)\n",
    "    parser.add_argument(\"-n\", \"--name\", default=\"yolox-nano\",type=str,  help=\"model name\")\n",
    "\n",
    "    parser.add_argument(\n",
    "        \"--path\", default=\"/home/khs/Documents/TNT/cv_project/22-2-Computer-Vision/backend/YOLOX/assets/dog.jpg\", help=\"path to images or video\"\n",
    "    )\n",
    "    parser.add_argument(\"--camid\", type=int, default=0, help=\"webcam demo camera id\")\n",
    "    parser.add_argument(\n",
    "        \"--save_result\",\n",
    "        action=\"store_true\",\n",
    "        default= True,\n",
    "        help=\"whether to save the inference result of image/video\",\n",
    "    )\n",
    "\n",
    "    # exp file\n",
    "    parser.add_argument(\n",
    "        \"-f\",\n",
    "        \"--exp_file\",\n",
    "        default=None,\n",
    "        type=str,\n",
    "        help=\"please input your experiment description file\",\n",
    "    )\n",
    "    parser.add_argument(\"-c\", \"--ckpt\", default=None, type=str, help=\"ckpt for eval\")\n",
    "    parser.add_argument(\n",
    "        \"--device\",\n",
    "        default=\"cpu\",\n",
    "        type=str,\n",
    "        help=\"device to run our model, can either be cpu or gpu\",\n",
    "    )\n",
    "    parser.add_argument(\"--conf\", default=0.3, type=float, help=\"test conf\")\n",
    "    parser.add_argument(\"--nms\", default=0.3, type=float, help=\"test nms threshold\")\n",
    "    parser.add_argument(\"--tsize\", default=None, type=int, help=\"test img size\")\n",
    "    parser.add_argument(\n",
    "        \"--fp16\",\n",
    "        dest=\"fp16\",\n",
    "        default=False,\n",
    "        action=\"store_true\",\n",
    "        help=\"Adopting mix precision evaluating.\",\n",
    "    )\n",
    "    parser.add_argument(\n",
    "        \"--legacy\",\n",
    "        dest=\"legacy\",\n",
    "        default=False,\n",
    "        action=\"store_true\",\n",
    "        help=\"To be compatible with older versions\",\n",
    "    )\n",
    "    parser.add_argument(\n",
    "        \"--fuse\",\n",
    "        dest=\"fuse\",\n",
    "        default=False,\n",
    "        action=\"store_true\",\n",
    "        help=\"Fuse conv and bn for testing.\",\n",
    "    )\n",
    "    parser.add_argument(\n",
    "        \"--trt\",\n",
    "        dest=\"trt\",\n",
    "        default=False,\n",
    "        action=\"store_true\",\n",
    "        help=\"Using TensorRT model for testing.\",\n",
    "    )\n",
    "    return parser\n"
   ]
  },
  {
   "cell_type": "code",
   "execution_count": 18,
   "metadata": {},
   "outputs": [],
   "source": [
    "args = make_parser().parse_args(args=['image'])"
   ]
  },
  {
   "cell_type": "code",
   "execution_count": 19,
   "metadata": {},
   "outputs": [
    {
     "name": "stderr",
     "output_type": "stream",
     "text": [
      "2022-11-03 00:40:02.341 | INFO     | backend.YOLOX.tools.demo:main:267 - Model Summary: Params: 0.91M, Gflops: 1.11\n",
      "2022-11-03 00:40:02.385 | INFO     | backend.YOLOX.tools.demo:inference:165 - Infer time: 0.0346s\n",
      "2022-11-03 00:40:02.385 | INFO     | backend.YOLOX.tools.demo:image_demo:202 - Saving detection result in ./YOLOX_outputs/yolox_nano/vis_res/2022_11_03_00_40_02/dog.jpg\n"
     ]
    }
   ],
   "source": [
    "main(exp, args)"
   ]
  },
  {
   "cell_type": "code",
   "execution_count": null,
   "metadata": {},
   "outputs": [],
   "source": []
  }
 ],
 "metadata": {
  "kernelspec": {
   "display_name": "Python 3.9.13 ('base')",
   "language": "python",
   "name": "python3"
  },
  "language_info": {
   "codemirror_mode": {
    "name": "ipython",
    "version": 3
   },
   "file_extension": ".py",
   "mimetype": "text/x-python",
   "name": "python",
   "nbconvert_exporter": "python",
   "pygments_lexer": "ipython3",
   "version": "3.9.13"
  },
  "orig_nbformat": 4,
  "vscode": {
   "interpreter": {
    "hash": "8bbf5ae89ca50dc9159d9f12b667ea03a9889503ffb205d1ed332b4911c50a35"
   }
  }
 },
 "nbformat": 4,
 "nbformat_minor": 2
}
